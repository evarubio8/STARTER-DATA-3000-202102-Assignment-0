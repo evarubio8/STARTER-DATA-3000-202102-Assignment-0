{
 "cells": [
  {
   "cell_type": "markdown",
   "metadata": {},
   "source": [
    "<h2 style=\"color:#2e3e4d;\"> Assignment 0: Hello, Dr. Cofer!</h2>\n",
    "DATA 3000 202102 (Cofer)"
   ]
  },
  {
   "cell_type": "markdown",
   "metadata": {},
   "source": [
    "<p>The purpose of this assignment is to get you started using basic python in Jupyter notebooks, to help you practice completing an submitting an assignment on Github Classroom, and to have you introduce yourself to me.</p>\n",
    "\n",
    "<h3 style=\"color:#49637a;\">Part I: Read the Docs!</h3>\n",
    "Start by completing the followg tasks. You are on your honor!\n",
    "<ol>\n",
    "<li><p>Read and thoroughly review the course syllabus.</p></li>\n",
    "<li><p>Review the <em>Installing the Anaconda Python Distribution and Launching Jupyter Notebooks</em> handout.If you are going to work on coding assignments from your laptop or desktop (rather than working in ACS 209 when it is not occupied), you need to follow the directions on this handout carefully. Even if you are not going to be installing anaconda3 on your PC, you should read over the handout sections on downloading and completing assignments.</p></li>\n",
    "<li>If you are working on this assignment, I will assume that you have already followed part of the <em>Getting Started on Github and the Classroom Assignment Workflow</em> handout. However, you must thoroughly review the handout to understand the assignment workflow, from acceptance to submission.</li>\n",
    "</ol>"
   ]
  },
  {
   "cell_type": "markdown",
   "metadata": {},
   "source": [
    "<h4>Problem I.</h4>In the code cell below, change each variable from `False` to `True` to show which tasks you have accomplished."
   ]
  },
  {
   "cell_type": "code",
   "execution_count": null,
   "metadata": {},
   "outputs": [],
   "source": [
    "### START I CODE\n",
    "\n",
    "#I have read and thoroughly reviewed the course syllabus.\n",
    "READ_SYLLABUS = False\n",
    "\n",
    "#I have thoroughly reviewed the Installing the Anaconda Python Distribution and Launching Jupyter Notebooks handout\n",
    "READ_ANACONDA_HANDOUT = False\n",
    "\n",
    "#I have thoroughly reviewed the Getting Started on Github and the Classroom Assignment Workflow handout\n",
    "READ_GITHUB_HANDOUT = False\n",
    "\n",
    "### END I CODE"
   ]
  },
  {
   "cell_type": "markdown",
   "metadata": {},
   "source": [
    "<h3 style=\"color:#49637a;\">Part II: Hello, Professor!!</h3>\n",
    "\n",
    "The `print` command is a useful function that lets you display text. We will use this command a lot to display the results of calculations.  We can also use the `print` command to <em>debug</em> our code.  \n",
    "\n",
    "The most basic way to use the `print` function is to call `print(...)`, replacing \"`...`\" with the text you want displayed, enclosed in single (`'`) or double (`\"`) quotes, like this:\n",
    "\n",
    "```\n",
    "print('Hello, world!')\n",
    "```\n",
    "\n",
    "<h4>Problem II.</h4> Modify the code in the next cell to print a greeting to me, Dr. Cofer. You don't have to stick with the wording given. You can get creative in your greeting. Just be sure to include \"Dr. Cofer\" in your response. Check your work by keying <em>shift + enter</em> to run your code.  It should print out your greeting below your code."
   ]
  },
  {
   "cell_type": "code",
   "execution_count": null,
   "metadata": {},
   "outputs": [],
   "source": [
    "### START II CODE \n",
    "print(...)\n",
    "### END II CODE"
   ]
  },
  {
   "cell_type": "markdown",
   "metadata": {},
   "source": [
    "<h3 style=\"color:#49637a;\">Part III: A Bit About You!!</h3>\n",
    "\n",
    "Now use the same process as in part II to tell me a little about yourself and your background.  \n",
    "\n",
    "Again, for each print statement below, modify the code by replacing \"`...`\" with the text you want displayed, enclosed in single (`'`) or double (`\"`) quotes. Don't forget to check your work by keying *shift + enter* to run your code.\n",
    "\n",
    "<h4>Problem III.a</h4> In the code cell below, print an answer to the question, \"What is your background in computing?\" <b>Start with your name</b>, such as, \"My name is ... and my background in computing includes...\" List any previous or current courwork, the languages you've learned, an your comfort level with those languages. You can also add information on the development environments you've worked in and any other relevant information."
   ]
  },
  {
   "cell_type": "code",
   "execution_count": null,
   "metadata": {},
   "outputs": [],
   "source": [
    "### START III.a CODE \n",
    "print(...)\n",
    "### END III.a CODE"
   ]
  },
  {
   "cell_type": "markdown",
   "metadata": {},
   "source": [
    "<h4>Problem III.b</h4> In the code cell below, print an answer to the question, \"What is your background and interest in data science?\" List any previous or current courwork in data science, any personal or professional experiences you've had in analytics, and what you want to get out of this course."
   ]
  },
  {
   "cell_type": "code",
   "execution_count": null,
   "metadata": {},
   "outputs": [],
   "source": [
    "### START III.b CODE \n",
    "print(...)\n",
    "### END III.b CODE"
   ]
  },
  {
   "cell_type": "markdown",
   "metadata": {},
   "source": [
    "<h4>Problem III.c</h4> In the code cell below, print a response to the prompt, \"Tell me a little more about you.\" This is pretty open-ended. Soe ideas: Tell me about your major and why you chose it, your plans for after graduation, what you like to do for fun, or what you do outside of school. I also like funny stories."
   ]
  },
  {
   "cell_type": "code",
   "execution_count": null,
   "metadata": {},
   "outputs": [],
   "source": [
    "### START III.c CODE \n",
    "print(...)\n",
    "### END III.c CODE"
   ]
  }
 ],
 "metadata": {
  "kernelspec": {
   "display_name": "Python 3",
   "language": "python",
   "name": "python3"
  },
  "language_info": {
   "codemirror_mode": {
    "name": "ipython",
    "version": 3
   },
   "file_extension": ".py",
   "mimetype": "text/x-python",
   "name": "python",
   "nbconvert_exporter": "python",
   "pygments_lexer": "ipython3",
   "version": "3.8.5"
  }
 },
 "nbformat": 4,
 "nbformat_minor": 4
}
